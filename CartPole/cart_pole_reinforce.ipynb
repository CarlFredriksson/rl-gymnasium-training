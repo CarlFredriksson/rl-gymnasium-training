{
 "cells": [
  {
   "cell_type": "markdown",
   "metadata": {},
   "source": [
    "# TODO:\n",
    "\n",
    "* Use whole episode as batch when learning?\n",
    "* Try without gradient clipping"
   ]
  },
  {
   "cell_type": "code",
   "execution_count": null,
   "metadata": {},
   "outputs": [],
   "source": [
    "import sys\n",
    "sys.path.append(\"..\")\n",
    "import models\n",
    "import policy_gradient_methods\n",
    "import utils\n",
    "import gymnasium as gym\n",
    "import torch\n",
    "import random"
   ]
  },
  {
   "cell_type": "markdown",
   "metadata": {},
   "source": [
    "# Settings"
   ]
  },
  {
   "cell_type": "code",
   "execution_count": 3,
   "metadata": {},
   "outputs": [
    {
     "name": "stdout",
     "output_type": "stream",
     "text": [
      "PyTorch device: cpu\n"
     ]
    }
   ],
   "source": [
    "ENVIRONMENT_ID = \"CartPole-v1\"\n",
    "NUM_EPISODES = 100\n",
    "GRAD_CLIP_VALUE = 100\n",
    "GAMMA = 0.9\n",
    "NN_HIDDEN_LAYER_SIZES = [8, 4]\n",
    "RNG_SEED = 7\n",
    "#device = torch.device(\"cuda\" if torch.cuda.is_available() else \"cpu\")\n",
    "device = torch.device(\"cpu\")\n",
    "print(\"PyTorch device:\", device)\n",
    "torch.manual_seed(RNG_SEED)\n",
    "random.seed(RNG_SEED)"
   ]
  },
  {
   "cell_type": "markdown",
   "metadata": {},
   "source": [
    "# REINFORCE\n",
    "\n",
    "## Linear model"
   ]
  },
  {
   "cell_type": "code",
   "execution_count": null,
   "metadata": {},
   "outputs": [],
   "source": [
    "def select_action_softmax(model, state):\n",
    "    with torch.no_grad():\n",
    "        return torch.distributions.categorical.Categorical(model(state)).sample().item()\n",
    "\n",
    "def train_episodic_reinforce(env, policy_model, loss_func, optimizer, device, rng_seed, num_episodes, gamma, grad_clip_value=None):\n",
    "    returns = []\n",
    "    for episode in range(num_episodes):\n",
    "        # Initiate episode\n",
    "        # Set seed only one time per training run. For more info, see https://gymnasium.farama.org/api/env/.\n",
    "        seed = rng_seed if episode == 0 else None\n",
    "        observation, info = env.reset(seed=seed)\n",
    "        state = torch.tensor(observation, device=device)\n",
    "        truncated = False\n",
    "        terminated = False\n",
    "        G = 0\n",
    "        states = [state]\n",
    "        actions = []\n",
    "        rewards = []\n",
    "\n",
    "        # Generate episode\n",
    "        while not (terminated or truncated) and G < 4: # TODO: REMEMBER TO REMOVE!!!!!!!!!!!!!!!!\n",
    "            action = select_action_softmax(policy_model, state)\n",
    "            observation, reward, terminated, truncated, info = env.step(action)\n",
    "            next_state = torch.tensor(observation, device=device)\n",
    "            states.append(next_state)\n",
    "            actions.append(action)\n",
    "            rewards.append(reward)\n",
    "            G += reward\n",
    "            state = next_state\n",
    "        returns.append(G)\n",
    "\n",
    "        # Learn from episode\n",
    "        G = 0\n",
    "        for t in reversed(range(len(rewards))):\n",
    "            G = gamma * G + rewards[t]\n",
    "            print(t, G, gamma**t)\n",
    "            print(\"states[t]:\",states[t])\n",
    "            print(\"actions[t]:\", actions[t])\n",
    "            print(policy_model(states[t]))\n",
    "            print(policy_model(states[t])[actions[t]])\n",
    "            print(\".................\")\n",
    "            loss = -gamma**t * G * torch.log(policy_model(states[t])[actions[t]])\n",
    "            optimizer.zero_grad()\n",
    "            loss.backward()\n",
    "            if grad_clip_value != None:\n",
    "                torch.nn.utils.clip_grad_value_(policy_model.parameters(), grad_clip_value)\n",
    "            optimizer.step()\n",
    "        \n",
    "    return returns, states, actions, rewards"
   ]
  },
  {
   "cell_type": "code",
   "execution_count": null,
   "metadata": {},
   "outputs": [],
   "source": [
    "env = gym.make(ENVIRONMENT_ID)\n",
    "env.action_space.seed(RNG_SEED)\n",
    "model = torch.nn.Sequential(\n",
    "    torch.nn.Linear(env.observation_space.shape[0], env.action_space.n).to(device),\n",
    "    torch.nn.Softmax(dim=0)\n",
    ")\n",
    "optimizer = torch.optim.SGD(model.parameters(), lr=0.01)\n",
    "loss_func = torch.nn.MSELoss()\n",
    "observation, info = env.reset(seed=RNG_SEED)\n",
    "state = torch.tensor(observation, device=device)\n",
    "action = select_action_softmax(model, state)\n",
    "with torch.no_grad():\n",
    "    print(model(state))\n",
    "print(action)\n",
    "print(\"--------------------\")\n",
    "returns, states, actions, rewards = train_episodic_reinforce(\n",
    "    env, model, loss_func, optimizer, device, RNG_SEED, 1, GAMMA, GRAD_CLIP_VALUE\n",
    ")\n",
    "print(\"--------------------\")\n",
    "print(\"returns:\", returns)\n",
    "print(\"states:\", states)\n",
    "print(len(states))\n",
    "print(\"actions:\", actions)\n",
    "print(len(actions))\n",
    "print(\"rewards:\", rewards)\n",
    "print(len(rewards))\n",
    "env.close()\n",
    "#utils.plot_returns(returns)"
   ]
  },
  {
   "cell_type": "code",
   "execution_count": 4,
   "metadata": {},
   "outputs": [],
   "source": [
    "def select_action_softmax(model, state):\n",
    "    with torch.no_grad():\n",
    "        return torch.distributions.categorical.Categorical(model(state)).sample().item()\n",
    "\n",
    "def train_episodic_reinforce(env, policy_model, optimizer, device, rng_seed, num_episodes, gamma, grad_clip_value=None):\n",
    "    returns = []\n",
    "    for episode in range(num_episodes):\n",
    "        # Initiate episode\n",
    "        # Set seed only one time per training run. For more info, see https://gymnasium.farama.org/api/env/.\n",
    "        seed = rng_seed if episode == 0 else None\n",
    "        observation, info = env.reset(seed=seed)\n",
    "        state = torch.tensor(observation, device=device)\n",
    "        truncated = False\n",
    "        terminated = False\n",
    "        G = 0\n",
    "        states = [state]\n",
    "        actions = []\n",
    "        rewards = []\n",
    "\n",
    "        # Generate episode\n",
    "        while not (terminated or truncated):\n",
    "            action = select_action_softmax(policy_model, state)\n",
    "            observation, reward, terminated, truncated, info = env.step(action)\n",
    "            next_state = torch.tensor(observation, device=device)\n",
    "            states.append(next_state)\n",
    "            actions.append(action)\n",
    "            rewards.append(reward)\n",
    "            G += reward\n",
    "            state = next_state\n",
    "        returns.append(G)\n",
    "\n",
    "        # Learn from episode\n",
    "        G = 0\n",
    "        for t in reversed(range(len(rewards))):\n",
    "            G = gamma * G + rewards[t]\n",
    "            loss = -gamma**t * G * torch.log(policy_model(states[t])[actions[t]])\n",
    "            optimizer.zero_grad()\n",
    "            loss.backward()\n",
    "            if grad_clip_value != None:\n",
    "                torch.nn.utils.clip_grad_value_(policy_model.parameters(), grad_clip_value)\n",
    "            optimizer.step()\n",
    "        \n",
    "    return returns, states, actions, rewards"
   ]
  },
  {
   "cell_type": "code",
   "execution_count": 8,
   "metadata": {},
   "outputs": [
    {
     "name": "stdout",
     "output_type": "stream",
     "text": [
      "Average return per episode: 36.52\n"
     ]
    },
    {
     "data": {
      "image/png": "[encoded data removed]",
      "text/plain": [
       "<Figure size 640x480 with 1 Axes>"
      ]
     },
     "metadata": {},
     "output_type": "display_data"
    }
   ],
   "source": [
    "env = gym.make(ENVIRONMENT_ID)\n",
    "env.action_space.seed(RNG_SEED)\n",
    "model = torch.nn.Sequential(\n",
    "    torch.nn.Linear(env.observation_space.shape[0], env.action_space.n).to(device),\n",
    "    torch.nn.Softmax(dim=0)\n",
    ")\n",
    "optimizer = torch.optim.SGD(model.parameters(), lr=0.01)\n",
    "returns, states, actions, rewards = train_episodic_reinforce(\n",
    "    env, model, optimizer, device, RNG_SEED, NUM_EPISODES, GAMMA, GRAD_CLIP_VALUE\n",
    ")\n",
    "utils.plot_returns(returns)"
   ]
  },
  {
   "cell_type": "markdown",
   "metadata": {},
   "source": [
    "## Neural network model"
   ]
  },
  {
   "cell_type": "code",
   "execution_count": null,
   "metadata": {},
   "outputs": [],
   "source": []
  },
  {
   "cell_type": "markdown",
   "metadata": {},
   "source": [
    "# REINFORCE with baseline\n",
    "\n",
    "## Linear model"
   ]
  },
  {
   "cell_type": "code",
   "execution_count": null,
   "metadata": {},
   "outputs": [],
   "source": []
  },
  {
   "cell_type": "markdown",
   "metadata": {},
   "source": [
    "## Neural network model"
   ]
  },
  {
   "cell_type": "markdown",
   "metadata": {},
   "source": []
  }
 ],
 "metadata": {
  "kernelspec": {
   "display_name": "Python 3",
   "language": "python",
   "name": "python3"
  },
  "language_info": {
   "codemirror_mode": {
    "name": "ipython",
    "version": 3
   },
   "file_extension": ".py",
   "mimetype": "text/x-python",
   "name": "python",
   "nbconvert_exporter": "python",
   "pygments_lexer": "ipython3",
   "version": "3.11.4"
  },
  "orig_nbformat": 4
 },
 "nbformat": 4,
 "nbformat_minor": 2
}
