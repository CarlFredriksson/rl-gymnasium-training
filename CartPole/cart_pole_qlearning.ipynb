{
 "cells": [
  {
   "cell_type": "code",
   "execution_count": 1,
   "metadata": {},
   "outputs": [],
   "source": [
    "import sys\n",
    "sys.path.append(\"..\")\n",
    "import models\n",
    "import action_value_methods\n",
    "import utils\n",
    "import gymnasium as gym\n",
    "import torch\n",
    "import random"
   ]
  },
  {
   "cell_type": "markdown",
   "metadata": {},
   "source": [
    "# Settings"
   ]
  },
  {
   "cell_type": "code",
   "execution_count": 2,
   "metadata": {},
   "outputs": [
    {
     "name": "stdout",
     "output_type": "stream",
     "text": [
      "PyTorch device: cpu\n"
     ]
    }
   ],
   "source": [
    "ENVIRONMENT_ID = \"CartPole-v1\"\n",
    "NUM_EPISODES = 10000\n",
    "GRAD_CLIP_VALUE = 100\n",
    "GAMMA = 0.9\n",
    "EPS_START = 1\n",
    "EPS_END = 0.01\n",
    "NN_HIDDEN_LAYER_SIZES = [8, 4]\n",
    "RNG_SEED = 7\n",
    "MEMORY_SIZE = NUM_EPISODES * 500\n",
    "BATCH_SIZE = 128\n",
    "NUM_STEPS_BETWEEN_TARGET_MODEL_UPDATES = 1000\n",
    "#device = torch.device(\"cuda\" if torch.cuda.is_available() else \"cpu\")\n",
    "device = torch.device(\"cpu\")\n",
    "print(\"PyTorch device:\", device)\n",
    "torch.manual_seed(RNG_SEED)\n",
    "random.seed(RNG_SEED)"
   ]
  },
  {
   "cell_type": "markdown",
   "metadata": {},
   "source": [
    "# Q-learning\n",
    "\n",
    "## Linear model"
   ]
  },
  {
   "cell_type": "code",
   "execution_count": 3,
   "metadata": {},
   "outputs": [],
   "source": [
    "env = gym.make(ENVIRONMENT_ID)\n",
    "env.action_space.seed(RNG_SEED)\n",
    "model = torch.nn.Linear(env.observation_space.shape[0], env.action_space.n).to(device)\n",
    "optimizer = torch.optim.SGD(model.parameters(), lr=0.01)\n",
    "loss_func = torch.nn.MSELoss()\n",
    "returns = action_value_methods.train_episodic_semi_grad_qlearning(\n",
    "    env, model, loss_func, optimizer, device, RNG_SEED, NUM_EPISODES, GAMMA, EPS_START, EPS_END, GRAD_CLIP_VALUE\n",
    ")\n",
    "env.close()\n",
    "utils.plot_returns(returns, env.spec.reward_threshold)"
   ]
  },
  {
   "cell_type": "markdown",
   "metadata": {},
   "source": [
    "## Neural network model"
   ]
  },
  {
   "cell_type": "code",
   "execution_count": null,
   "metadata": {},
   "outputs": [],
   "source": [
    "env = gym.make(ENVIRONMENT_ID)\n",
    "env.action_space.seed(RNG_SEED)\n",
    "model = models.create_simple_nn(env.observation_space.shape[0], env.action_space.n, NN_HIDDEN_LAYER_SIZES).to(device)\n",
    "optimizer = torch.optim.AdamW(model.parameters(), lr=0.001, amsgrad=True)\n",
    "loss_func = torch.nn.MSELoss()\n",
    "returns = action_value_methods.train_episodic_semi_grad_qlearning(\n",
    "    env, model, loss_func, optimizer, device, RNG_SEED, NUM_EPISODES, GAMMA, EPS_START, EPS_END, GRAD_CLIP_VALUE\n",
    ")\n",
    "env.close()\n",
    "utils.plot_returns(returns, env.spec.reward_threshold)"
   ]
  },
  {
   "cell_type": "markdown",
   "metadata": {},
   "source": [
    "# Q-learning with experience replay\n",
    "\n",
    "## Linear model"
   ]
  },
  {
   "cell_type": "code",
   "execution_count": null,
   "metadata": {},
   "outputs": [],
   "source": [
    "env = gym.make(ENVIRONMENT_ID)\n",
    "env.action_space.seed(RNG_SEED)\n",
    "model = torch.nn.Linear(env.observation_space.shape[0], env.action_space.n).to(device)\n",
    "optimizer = torch.optim.SGD(model.parameters(), lr=0.01)\n",
    "loss_func = torch.nn.MSELoss()\n",
    "returns = action_value_methods.train_episodic_semi_grad_qlearning_exp_replay(\n",
    "    env, model, model, loss_func, optimizer, device, RNG_SEED, NUM_EPISODES, GAMMA, EPS_START, EPS_END,\n",
    "    MEMORY_SIZE, BATCH_SIZE, NUM_STEPS_BETWEEN_TARGET_MODEL_UPDATES, GRAD_CLIP_VALUE\n",
    ")\n",
    "env.close()\n",
    "utils.plot_returns(returns, env.spec.reward_threshold)"
   ]
  },
  {
   "cell_type": "markdown",
   "metadata": {},
   "source": [
    "## Neural network model"
   ]
  },
  {
   "cell_type": "code",
   "execution_count": null,
   "metadata": {},
   "outputs": [],
   "source": [
    "env = gym.make(ENVIRONMENT_ID)\n",
    "env.action_space.seed(RNG_SEED)\n",
    "model = models.create_simple_nn(env.observation_space.shape[0], env.action_space.n, NN_HIDDEN_LAYER_SIZES).to(device)\n",
    "optimizer = torch.optim.AdamW(model.parameters(), lr=0.001, amsgrad=True)\n",
    "loss_func = torch.nn.MSELoss()\n",
    "returns = action_value_methods.train_episodic_semi_grad_qlearning_exp_replay(\n",
    "    env, model, model, loss_func, optimizer, device, RNG_SEED, NUM_EPISODES, GAMMA, EPS_START, EPS_END,\n",
    "    MEMORY_SIZE, BATCH_SIZE, NUM_STEPS_BETWEEN_TARGET_MODEL_UPDATES, GRAD_CLIP_VALUE\n",
    ")\n",
    "env.close()\n",
    "utils.plot_returns(returns, env.spec.reward_threshold)"
   ]
  },
  {
   "cell_type": "markdown",
   "metadata": {},
   "source": [
    "## Two duplicate neural network models (policy network + target network)\n",
    "\n",
    "The weights of the target network are updated to duplicate the weights of the policy network every C time steps, and kept frozen in between. This is done to stabilize learning. For more info, see the original DQN paper (Mnih, V., Kavukcuoglu, K., Silver, D. et al. Human-level control through deep reinforcement learning. Nature 518, 529–533 (2015). https://doi.org/10.1038/nature14236), or section 16.5 in the second edition of Reinforcement Learning: An Introduction (second edition, Sutton and Barto)."
   ]
  },
  {
   "cell_type": "code",
   "execution_count": null,
   "metadata": {},
   "outputs": [],
   "source": [
    "env = gym.make(ENVIRONMENT_ID)\n",
    "env.action_space.seed(RNG_SEED)\n",
    "policy_net = models.create_simple_nn(env.observation_space.shape[0], env.action_space.n, NN_HIDDEN_LAYER_SIZES).to(device)\n",
    "target_net = models.create_simple_nn(env.observation_space.shape[0], env.action_space.n, NN_HIDDEN_LAYER_SIZES).to(device)\n",
    "optimizer = torch.optim.AdamW(policy_net.parameters(), lr=0.001, amsgrad=True)\n",
    "loss_func = torch.nn.MSELoss()\n",
    "returns = action_value_methods.train_episodic_semi_grad_qlearning_exp_replay(\n",
    "    env, policy_net, target_net, loss_func, optimizer, device, RNG_SEED, NUM_EPISODES, GAMMA,\n",
    "    EPS_START, EPS_END, MEMORY_SIZE, BATCH_SIZE, NUM_STEPS_BETWEEN_TARGET_MODEL_UPDATES, GRAD_CLIP_VALUE\n",
    ")\n",
    "env.close()\n",
    "utils.plot_returns(returns, env.spec.reward_threshold)"
   ]
  },
  {
   "cell_type": "code",
   "execution_count": null,
   "metadata": {},
   "outputs": [],
   "source": [
    "utils.plot_returns(returns[-500:], env.spec.reward_threshold)"
   ]
  },
  {
   "cell_type": "code",
   "execution_count": null,
   "metadata": {},
   "outputs": [],
   "source": []
  }
 ],
 "metadata": {
  "kernelspec": {
   "display_name": "Python 3",
   "language": "python",
   "name": "python3"
  },
  "language_info": {
   "codemirror_mode": {
    "name": "ipython",
    "version": 3
   },
   "file_extension": ".py",
   "mimetype": "text/x-python",
   "name": "python",
   "nbconvert_exporter": "python",
   "pygments_lexer": "ipython3",
   "version": "3.11.4"
  },
  "orig_nbformat": 4
 },
 "nbformat": 4,
 "nbformat_minor": 2
}
