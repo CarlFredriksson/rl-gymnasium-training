{
 "cells": [
  {
   "cell_type": "code",
   "execution_count": 1,
   "metadata": {},
   "outputs": [],
   "source": [
    "import sys\n",
    "sys.path.append(\"..\")\n",
    "import GradientMethods.models as models\n",
    "import GradientMethods.policy_gradient_methods as pgm\n",
    "import utils\n",
    "import gymnasium as gym\n",
    "import torch\n",
    "import random"
   ]
  },
  {
   "cell_type": "markdown",
   "metadata": {},
   "source": [
    "# Settings"
   ]
  },
  {
   "cell_type": "code",
   "execution_count": 2,
   "metadata": {},
   "outputs": [
    {
     "name": "stdout",
     "output_type": "stream",
     "text": [
      "PyTorch device: cpu\n"
     ]
    }
   ],
   "source": [
    "ENVIRONMENT_ID = \"LunarLander-v2\"\n",
    "NUM_EPISODES_IN_GIFS = 3\n",
    "GRAD_CLIP_VALUE = 1\n",
    "GAMMA = 0.99\n",
    "RNG_SEED = 7\n",
    "device = torch.device(\"cpu\")\n",
    "print(\"PyTorch device:\", device)\n",
    "torch.manual_seed(RNG_SEED)\n",
    "random.seed(RNG_SEED)"
   ]
  },
  {
   "cell_type": "markdown",
   "metadata": {},
   "source": [
    "# Random agent"
   ]
  },
  {
   "cell_type": "code",
   "execution_count": 3,
   "metadata": {},
   "outputs": [
    {
     "data": {
      "image/png": "[encoded data removed]",
      "text/plain": [
       "<Figure size 468.75x312.5 with 1 Axes>"
      ]
     },
     "metadata": {},
     "output_type": "display_data"
    }
   ],
   "source": [
    "frames = utils.generate_random_agent_frames(ENVIRONMENT_ID, NUM_EPISODES_IN_GIFS, RNG_SEED)\n",
    "utils.save_frames_as_gif(frames, \"./Output/lunar_lander_random_agent.gif\")"
   ]
  },
  {
   "cell_type": "markdown",
   "metadata": {},
   "source": [
    "# Trained agent"
   ]
  },
  {
   "cell_type": "code",
   "execution_count": 4,
   "metadata": {},
   "outputs": [],
   "source": [
    "env = gym.make(ENVIRONMENT_ID)\n",
    "policy_model = torch.nn.Sequential(\n",
    "    torch.nn.Linear(env.observation_space.shape[0], env.action_space.n),\n",
    "    torch.nn.Softmax(dim=1)\n",
    ").to(device)\n",
    "value_model = torch.nn.Linear(env.observation_space.shape[0], 1).to(device)\n",
    "policy_optimizer = torch.optim.SGD(policy_model.parameters(), lr=0.01)\n",
    "value_optimizer = torch.optim.SGD(value_model.parameters(), lr=0.01)\n",
    "returns = pgm.train_episodic_reinforce_with_baseline(\n",
    "    env, policy_model, value_model, policy_optimizer, value_optimizer, device,\n",
    "    RNG_SEED, 8400, GAMMA, GRAD_CLIP_VALUE\n",
    ")\n",
    "env.close()\n",
    "utils.plot_returns(returns, env.spec.reward_threshold)"
   ]
  },
  {
   "cell_type": "code",
   "execution_count": null,
   "metadata": {},
   "outputs": [],
   "source": [
    "frames = pgm.generate_frames(ENVIRONMENT_ID, NUM_EPISODES_IN_GIFS, policy_model, device)\n",
    "utils.save_frames_as_gif(frames, \"./Output/lunar_lander_trained_agent.gif\")"
   ]
  }
 ],
 "metadata": {
  "kernelspec": {
   "display_name": "Python 3",
   "language": "python",
   "name": "python3"
  },
  "language_info": {
   "codemirror_mode": {
    "name": "ipython",
    "version": 3
   },
   "file_extension": ".py",
   "mimetype": "text/x-python",
   "name": "python",
   "nbconvert_exporter": "python",
   "pygments_lexer": "ipython3",
   "version": "3.11.4"
  }
 },
 "nbformat": 4,
 "nbformat_minor": 2
}
