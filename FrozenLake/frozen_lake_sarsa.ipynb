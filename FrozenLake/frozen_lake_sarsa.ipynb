{
 "cells": [
  {
   "cell_type": "code",
   "execution_count": 1,
   "metadata": {},
   "outputs": [],
   "source": [
    "import sys\n",
    "sys.path.append(\"..\")\n",
    "import TabularMethods.action_value_methods as avm\n",
    "import utils\n",
    "import gymnasium as gym\n",
    "import random\n",
    "import numpy as np"
   ]
  },
  {
   "cell_type": "markdown",
   "metadata": {},
   "source": [
    "# Settings"
   ]
  },
  {
   "cell_type": "code",
   "execution_count": 2,
   "metadata": {},
   "outputs": [],
   "source": [
    "ENVIRONMENT_ID = \"FrozenLake-v1\"\n",
    "NUM_EPISODES = 1\n",
    "GAMMA = 1\n",
    "EPS_START = 1\n",
    "#EPS_END = 0.01\n",
    "EPS_END = 1\n",
    "NN_HIDDEN_LAYER_SIZES = [8, 4]\n",
    "RNG_SEED = 7\n",
    "random.seed(RNG_SEED)"
   ]
  },
  {
   "cell_type": "markdown",
   "metadata": {},
   "source": [
    "# One step SARSA"
   ]
  },
  {
   "cell_type": "code",
   "execution_count": 3,
   "metadata": {},
   "outputs": [],
   "source": [
    "def select_action_eps_greedy(env, Q, state, eps):\n",
    "    if random.random() < eps:\n",
    "        return env.action_space.sample().item()\n",
    "    return np.argmax(Q[state])\n",
    "\n",
    "def train_episodic_sarsa(env, init_action_values, rng_seed, num_episodes, gamma, eps_start, eps_end):\n",
    "    returns = []\n",
    "    Q = init_action_values.copy()\n",
    "    for episode in range(num_episodes):\n",
    "        # Initialize episode\n",
    "        # Set seed only one time per training run. For more info, see https://gymnasium.farama.org/api/env/.\n",
    "        seed = rng_seed if episode == 0 else None\n",
    "        state, info = env.reset(seed=seed)\n",
    "        eps = utils.compute_eps_linear_decay(eps_start, eps_end, num_episodes, episode)\n",
    "        action = select_action_eps_greedy(env, Q, state, eps)\n",
    "        truncated = False\n",
    "        terminated = False\n",
    "        undiscounted_return = 0\n",
    "\n",
    "        while not (terminated or truncated):\n",
    "            next_state, reward, terminated, truncated, info = env.step(action)\n",
    "            undiscounted_return += reward\n",
    "            next_action = select_action_eps_greedy(env, Q, next_state, eps)\n",
    "            print(\"state:\", state)\n",
    "            print(\"action:\", action)\n",
    "            print(\"next_state:\", next_state)\n",
    "            print(\"next_action:\", next_action)\n",
    "            print(\"--------------------------\")\n",
    "            state = next_state\n",
    "            action = next_action\n",
    "\n",
    "    return returns"
   ]
  },
  {
   "cell_type": "code",
   "execution_count": 4,
   "metadata": {},
   "outputs": [
    {
     "name": "stdout",
     "output_type": "stream",
     "text": [
      "state: 0\n",
      "action: 3\n",
      "next_state: 0\n",
      "next_action: 2\n",
      "--------------------------\n",
      "state: 0\n",
      "action: 2\n",
      "next_state: 1\n",
      "next_action: 2\n",
      "--------------------------\n",
      "state: 1\n",
      "action: 2\n",
      "next_state: 2\n",
      "next_action: 3\n",
      "--------------------------\n",
      "state: 2\n",
      "action: 3\n",
      "next_state: 2\n",
      "next_action: 2\n",
      "--------------------------\n",
      "state: 2\n",
      "action: 2\n",
      "next_state: 3\n",
      "next_action: 3\n",
      "--------------------------\n",
      "state: 3\n",
      "action: 3\n",
      "next_state: 3\n",
      "next_action: 3\n",
      "--------------------------\n",
      "state: 3\n",
      "action: 3\n",
      "next_state: 3\n",
      "next_action: 0\n",
      "--------------------------\n",
      "state: 3\n",
      "action: 0\n",
      "next_state: 2\n",
      "next_action: 0\n",
      "--------------------------\n",
      "state: 2\n",
      "action: 0\n",
      "next_state: 1\n",
      "next_action: 1\n",
      "--------------------------\n",
      "state: 1\n",
      "action: 1\n",
      "next_state: 5\n",
      "next_action: 1\n",
      "--------------------------\n"
     ]
    }
   ],
   "source": [
    "#env = gym.make(ENVIRONMENT_ID) TODO: !!!!!!!!!!!!!!!\n",
    "env = gym.make(ENVIRONMENT_ID, is_slippery=False)\n",
    "env.action_space.seed(RNG_SEED)\n",
    "init_action_values = np.zeros((env.observation_space.n, env.action_space.n))\n",
    "#returns = avm.train_episodic_sarsa(env, init_action_values, RNG_SEED, NUM_EPISODES, GAMMA, EPS_START, EPS_END)\n",
    "returns = train_episodic_sarsa(env, init_action_values, RNG_SEED, NUM_EPISODES, GAMMA, EPS_START, EPS_END)\n",
    "env.close()\n",
    "#utils.plot_returns(returns, env.spec.reward_threshold)"
   ]
  },
  {
   "cell_type": "code",
   "execution_count": null,
   "metadata": {},
   "outputs": [],
   "source": []
  }
 ],
 "metadata": {
  "kernelspec": {
   "display_name": "Python 3",
   "language": "python",
   "name": "python3"
  },
  "language_info": {
   "codemirror_mode": {
    "name": "ipython",
    "version": 3
   },
   "file_extension": ".py",
   "mimetype": "text/x-python",
   "name": "python",
   "nbconvert_exporter": "python",
   "pygments_lexer": "ipython3",
   "version": "3.11.4"
  }
 },
 "nbformat": 4,
 "nbformat_minor": 2
}
